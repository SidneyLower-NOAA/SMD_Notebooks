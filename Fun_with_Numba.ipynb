{
 "cells": [
  {
   "cell_type": "code",
   "execution_count": 3,
   "id": "eba6691b-f735-4bc7-86a3-6b825d01ecda",
   "metadata": {},
   "outputs": [],
   "source": [
    "import xarray as xr\n",
    "import grib2io\n",
    "import pandas as pd\n",
    "import datetime\n",
    "from glob import glob\n",
    "from tqdm.auto import tqdm\n",
    "import numpy as np\n",
    "import multiprocessing\n",
    "import matplotlib.pyplot as plt\n",
    "import matplotlib.colors as colors\n",
    "import matplotlib.cm as cm\n",
    "import matplotlib\n",
    "import scipy\n",
    "matplotlib.rcParams.update({\n",
    " \"savefig.facecolor\": \"w\",\n",
    " \"figure.facecolor\" : 'w',\n",
    " \"figure.figsize\" : (8,6),\n",
    " \"text.color\": \"k\",\n",
    " \"legend.fontsize\" : 20,\n",
    " \"font.size\" : 30,\n",
    " \"axes.edgecolor\": \"k\",\n",
    " \"axes.labelcolor\": \"k\",\n",
    " \"axes.linewidth\": 3,\n",
    " \"xtick.color\": \"k\",\n",
    " \"ytick.color\": \"k\",\n",
    " \"xtick.labelsize\" : 25,\n",
    " \"ytick.labelsize\" : 25,\n",
    " \"ytick.major.size\" : 12,\n",
    " \"xtick.major.size\" : 12,\n",
    " \"ytick.major.width\" : 2,\n",
    " \"xtick.major.width\" : 2,\n",
    " \"font.family\": 'STIXGeneral',\n",
    " \"mathtext.fontset\" : \"cm\"})\n",
    "from mpl_toolkits.basemap import Basemap\n",
    "from mpl_toolkits.axes_grid1.inset_locator import inset_axes\n",
    "from numba import njit"
   ]
  },
  {
   "cell_type": "code",
   "execution_count": 13,
   "id": "253f4a7e-5788-4ae7-823c-a6f3110f0370",
   "metadata": {},
   "outputs": [
    {
     "data": {
      "text/plain": [
       "'2.2.0'"
      ]
     },
     "execution_count": 13,
     "metadata": {},
     "output_type": "execute_result"
    }
   ],
   "source": [
    "grib2io.__version__"
   ]
  },
  {
   "cell_type": "code",
   "execution_count": 14,
   "id": "5bbf20a6-db85-4763-a021-8f87a207394f",
   "metadata": {},
   "outputs": [
    {
     "data": {
      "text/plain": [
       "'0.59.1'"
      ]
     },
     "execution_count": 14,
     "metadata": {},
     "output_type": "execute_result"
    }
   ],
   "source": [
    "numba.__version__"
   ]
  },
  {
   "cell_type": "markdown",
   "id": "fe80e738-84a8-42b6-b18c-86abdb794086",
   "metadata": {},
   "source": [
    "From my understanding, Numba's \"just in time compiling\" speeds up pure python code with a few simple (?) drop in decorators, allowing major speeds ups with numpy operations, for loops, etc. But that's the catch: pure python. Will this work nicely with grib2io interpolation / scipy minimization (both of which are build on Fortran, C, etc.)?\n",
    "\n",
    "Below is an example of attempting to use numba to speed up some numpy calculations but gets hung up on the grib2io interp routine."
   ]
  },
  {
   "cell_type": "code",
   "execution_count": 2,
   "id": "96c8727a-828f-420e-9b2a-1a01a31a429d",
   "metadata": {},
   "outputs": [],
   "source": [
    "#---------------------#\n",
    "#\n",
    "# Original\n",
    "#\n",
    "#---------------------#\n",
    "def evaluate_at_new_grid(new_grid, grid_shape, grid_def, ens_mem,min_lat_idx, min_lon_idx, c_ai):\n",
    "    \n",
    "    #interpolate ensemble member between displaced grid and gefs grid\n",
    "    displaced_ens = grib2io.interpolate_to_stations(ens_mem, 'bilinear', grid_def, new_grid[1], new_grid[0])\n",
    "    \n",
    "    # interp_to_stations returns a list of points instead of the 2D field. just need to rearrange below\n",
    "    coalesced_ensemble = np.zeros(np.shape(ens_mem))\n",
    "    y,x = grid_shape\n",
    "    for i in range(x):\n",
    "        for j in range(y):\n",
    "            point = i + x*j\n",
    "            coalesced_ensemble[j+min_lat_idx, i+min_lon_idx] = displaced_ens[point] * (1. + c_ai[point])\n",
    "    return coalesced_ensemble"
   ]
  },
  {
   "cell_type": "code",
   "execution_count": 11,
   "id": "422bc67c-14a7-485d-a605-bf36dffa4f28",
   "metadata": {},
   "outputs": [],
   "source": [
    "#-----------------------#\n",
    "#\n",
    "# Numba version, @njit decorator\n",
    "#\n",
    "#-----------------------#\n",
    "\n",
    "@njit()\n",
    "def numba_eval_v1(new_grid, grid_shape, grid_def,ens_mem,min_lat_idx, min_lon_idx, c_ai):\n",
    "    \n",
    "    #interpolate ensemble member between displaced grid and gefs grid\n",
    "    displaced_ens = grib2io.interpolate_to_stations(ens_mem, 'bilinear', grid_def, new_grid[1], new_grid[0])\n",
    "    \n",
    "    # interp_to_stations returns a list of points instead of the 2D field. just need to rearrange below\n",
    "    coalesced_ensemble = np.zeros(np.shape(ens_mem))\n",
    "    y,x = grid_shape\n",
    "    for i in range(x):\n",
    "        for j in range(y):\n",
    "            point = i + x*j\n",
    "            coalesced_ensemble[j+min_lat_idx, i+min_lon_idx] = displaced_ens[point] * (1. + c_ai[point])\n",
    "    return coalesced_ensemble\n"
   ]
  },
  {
   "cell_type": "code",
   "execution_count": 5,
   "id": "ef90fd49-77cd-4333-a209-3af294790af2",
   "metadata": {},
   "outputs": [],
   "source": [
    "#load data\n",
    "date = '20231005'\n",
    "lead_time = 120 #hours\n",
    "dat_dir = f'/scratch2/STI/mdl-sti/Sidney.Lower/test_data/gefs/{date}/'\n",
    "gefs_paths = sorted(glob(dat_dir+f'gefs*.t0z.f120'))\n",
    "filters = dict(productDefinitionTemplateNumber=11, shortName='APCP')\n",
    "gefs_data = xr.open_mfdataset(gefs_paths, chunks=None,engine='grib2io', filters=filters, \n",
    "                              parallel=False, concat_dim=[pd.Index(np.arange(len(gefs_paths)), name=\"member\")],combine=\"nested\")\n"
   ]
  },
  {
   "cell_type": "code",
   "execution_count": 6,
   "id": "c5aab69c-3c58-4ddf-8de0-6dc7d6f937a9",
   "metadata": {},
   "outputs": [],
   "source": [
    "def basis_functions(gefs_grid_points, m_k=None, n_k=None, xrange=(np.nan, np.nan), yrange=(np.nan, np.nan)):\n",
    "\n",
    "    #transform grid points to Fourier space\n",
    "    x = grid2fourier(gefs_grid_points[:,0], xrange)\n",
    "    y = grid2fourier(gefs_grid_points[:,1], yrange)\n",
    "\n",
    "    #calculate basis functions \n",
    "    b_ik = np.zeros((len(gefs_grid_points), len(m_k)))\n",
    "    for mk in range(len(m_k)):\n",
    "            b_ik[:, mk] = 2 * np.sin(m_k[mk] * gefs_grid_points[:,0]) * np.sin(n_k[mk] * gefs_grid_points[:,1])\n",
    "\n",
    "    return b_ik\n",
    "\n",
    "def grid2fourier(x, xrange):\n",
    "    return (np.pi / np.diff(xrange)) * (x - xrange[0])\n",
    "\n",
    "def basis_truncation(n=3):\n",
    "    #select wavenumbers below truncation limit\n",
    "    m_k = np.tile(np.arange(1, n+1),n)\n",
    "    n_k = np.repeat(np.arange(1, n + 1), n)\n",
    "    select = m_k**2 + n_k**2 <= n**2\n",
    "\n",
    "    return m_k[select], n_k[select]"
   ]
  },
  {
   "cell_type": "code",
   "execution_count": 27,
   "id": "aa4ad15d-d449-43cb-91ed-46d0d715eb4c",
   "metadata": {},
   "outputs": [],
   "source": [
    "### set up\n",
    "\n",
    "def find_nearest_lat_lon(lat_lon_range, lat_lon_arr):\n",
    "    min_val, max_val = lat_lon_range[0], lat_lon_range[1]\n",
    "    min_idx = (np.abs(np.array(lat_lon_arr)-min_val)).argmin()\n",
    "    max_idx = (np.abs(np.array(lat_lon_arr)-max_val)).argmin()\n",
    "    if min_idx > max_idx: #latitude\n",
    "        trimmed_arr = lat_lon_arr[max_idx:min_idx+1]\n",
    "        return trimmed_arr, max_idx, min_idx\n",
    "    else:\n",
    "        trimmed_arr = lat_lon_arr[min_idx:max_idx+1]\n",
    "        return trimmed_arr, min_idx, max_idx\n",
    "\n",
    "#--------------------------------------#\n",
    "#\n",
    "#  Get GEFS data: ensemble mean, ensemble members\n",
    "#\n",
    "#--------------------------------------#\n",
    "\n",
    "ens_mean = gefs_data.APCP.mean(dim='member')\n",
    "raw_mean = ens_mean.data.compute()\n",
    "ens_members = gefs_data.APCP.data.compute()\n",
    "ens_std = gefs_data.APCP.std(dim='member').data.compute()\n",
    "\n",
    "lats = gefs_data.latitude.data.compute().T[0]\n",
    "lons = gefs_data.longitude.data[0].compute()\n",
    "y, min_lat, max_lat = find_nearest_lat_lon([10,60], lats)\n",
    "\n",
    "lon_range = 180 - np.array([180, 55]) + 180 #convert from 0-360 to East / West\n",
    "x, min_lon, max_lon = find_nearest_lat_lon(lon_range, lons)\n",
    "\n",
    "\n",
    "m_k, n_k = basis_truncation(7) #truncating the basis functions B_k to wavenumbers < 7\n",
    "gy, gx=np.meshgrid(y,x ,indexing='ij')\n",
    "gefs_grid_points = np.reshape((gx, gy), (2, -1), order='C').T\n",
    "#get displacement basis functions, transforms grid x,y to fourier space\n",
    "b_ik = basis_functions(gefs_grid_points, m_k, n_k, [x[0], x[-1]], [y[0], y[-1]]\n",
    "    )\n",
    "d_o_f = len(m_k)\n",
    "#basis function coefficients, the target of our minimization\n",
    "c_k = {\"x\": np.repeat(0.1, d_o_f), \"y\": np.repeat(-0.1, d_o_f), 'a': np.random.uniform(0.5, 2.,size=d_o_f)}\n",
    "grid_def = gefs_data.grib2io.griddef()\n",
    "grid_shape = np.shape(gx)\n",
    "c_xi = np.dot(b_ik, c_k['x'])\n",
    "c_yi = np.dot(b_ik, c_k['y'])\n",
    "n_x_i = gefs_grid_points[:,0] + c_xi\n",
    "n_y_i = gefs_grid_points[:,1] + c_yi\n",
    "\n",
    "#amplitude displacements\n",
    "c_ai = np.dot(b_ik, c_k['a'])\n",
    "ens_mem = ens_members[10]"
   ]
  },
  {
   "cell_type": "code",
   "execution_count": 12,
   "id": "671ece4f-dd43-45bf-9344-8ed6088f8d7a",
   "metadata": {},
   "outputs": [
    {
     "ename": "TypingError",
     "evalue": "Failed in nopython mode pipeline (step: nopython frontend)\n\u001b[1m\u001b[1mnon-precise type pyobject\u001b[0m\n\u001b[0m\u001b[1mDuring: typing of argument at /tmp/ipykernel_653795/4097335957.py (7)\u001b[0m\n\u001b[1m\nFile \"../../../../../tmp/ipykernel_653795/4097335957.py\", line 7:\u001b[0m\n\u001b[1m<source missing, REPL/exec in use?>\u001b[0m \n\nThis error may have been caused by the following argument(s):\n- argument 2: \u001b[1mCannot determine Numba type of <class 'grib2io._grib2io.Grib2GridDef'>\u001b[0m\n",
     "output_type": "error",
     "traceback": [
      "\u001b[0;31m---------------------------------------------------------------------------\u001b[0m",
      "\u001b[0;31mTypingError\u001b[0m                               Traceback (most recent call last)",
      "Cell \u001b[0;32mIn[12], line 1\u001b[0m\n\u001b[0;32m----> 1\u001b[0m test_numba  \u001b[38;5;241m=\u001b[39m \u001b[43mnumba_eval_v1\u001b[49m\u001b[43m(\u001b[49m\u001b[43m(\u001b[49m\u001b[43mn_x_i\u001b[49m\u001b[43m,\u001b[49m\u001b[43m \u001b[49m\u001b[43mn_y_i\u001b[49m\u001b[43m)\u001b[49m\u001b[43m,\u001b[49m\u001b[43m \u001b[49m\u001b[43mgrid_shape\u001b[49m\u001b[43m,\u001b[49m\u001b[43m \u001b[49m\u001b[43mgrid_def\u001b[49m\u001b[43m,\u001b[49m\u001b[43mens_mem\u001b[49m\u001b[43m,\u001b[49m\u001b[43m \u001b[49m\u001b[43mmin_lat\u001b[49m\u001b[43m,\u001b[49m\u001b[43mmin_lon\u001b[49m\u001b[43m,\u001b[49m\u001b[43m \u001b[49m\u001b[43mc_ai\u001b[49m\u001b[43m)\u001b[49m\n",
      "File \u001b[0;32m/scratch2/STI/mdl-sti/Sidney.Lower/miniforge3/lib/python3.10/site-packages/numba/core/dispatcher.py:468\u001b[0m, in \u001b[0;36m_DispatcherBase._compile_for_args\u001b[0;34m(self, *args, **kws)\u001b[0m\n\u001b[1;32m    464\u001b[0m         msg \u001b[38;5;241m=\u001b[39m (\u001b[38;5;124mf\u001b[39m\u001b[38;5;124m\"\u001b[39m\u001b[38;5;132;01m{\u001b[39;00m\u001b[38;5;28mstr\u001b[39m(e)\u001b[38;5;241m.\u001b[39mrstrip()\u001b[38;5;132;01m}\u001b[39;00m\u001b[38;5;124m \u001b[39m\u001b[38;5;130;01m\\n\u001b[39;00m\u001b[38;5;130;01m\\n\u001b[39;00m\u001b[38;5;124mThis error may have been caused \u001b[39m\u001b[38;5;124m\"\u001b[39m\n\u001b[1;32m    465\u001b[0m                \u001b[38;5;124mf\u001b[39m\u001b[38;5;124m\"\u001b[39m\u001b[38;5;124mby the following argument(s):\u001b[39m\u001b[38;5;130;01m\\n\u001b[39;00m\u001b[38;5;132;01m{\u001b[39;00margs_str\u001b[38;5;132;01m}\u001b[39;00m\u001b[38;5;130;01m\\n\u001b[39;00m\u001b[38;5;124m\"\u001b[39m)\n\u001b[1;32m    466\u001b[0m         e\u001b[38;5;241m.\u001b[39mpatch_message(msg)\n\u001b[0;32m--> 468\u001b[0m     \u001b[43merror_rewrite\u001b[49m\u001b[43m(\u001b[49m\u001b[43me\u001b[49m\u001b[43m,\u001b[49m\u001b[43m \u001b[49m\u001b[38;5;124;43m'\u001b[39;49m\u001b[38;5;124;43mtyping\u001b[39;49m\u001b[38;5;124;43m'\u001b[39;49m\u001b[43m)\u001b[49m\n\u001b[1;32m    469\u001b[0m \u001b[38;5;28;01mexcept\u001b[39;00m errors\u001b[38;5;241m.\u001b[39mUnsupportedError \u001b[38;5;28;01mas\u001b[39;00m e:\n\u001b[1;32m    470\u001b[0m     \u001b[38;5;66;03m# Something unsupported is present in the user code, add help info\u001b[39;00m\n\u001b[1;32m    471\u001b[0m     error_rewrite(e, \u001b[38;5;124m'\u001b[39m\u001b[38;5;124munsupported_error\u001b[39m\u001b[38;5;124m'\u001b[39m)\n",
      "File \u001b[0;32m/scratch2/STI/mdl-sti/Sidney.Lower/miniforge3/lib/python3.10/site-packages/numba/core/dispatcher.py:409\u001b[0m, in \u001b[0;36m_DispatcherBase._compile_for_args.<locals>.error_rewrite\u001b[0;34m(e, issue_type)\u001b[0m\n\u001b[1;32m    407\u001b[0m     \u001b[38;5;28;01mraise\u001b[39;00m e\n\u001b[1;32m    408\u001b[0m \u001b[38;5;28;01melse\u001b[39;00m:\n\u001b[0;32m--> 409\u001b[0m     \u001b[38;5;28;01mraise\u001b[39;00m e\u001b[38;5;241m.\u001b[39mwith_traceback(\u001b[38;5;28;01mNone\u001b[39;00m)\n",
      "\u001b[0;31mTypingError\u001b[0m: Failed in nopython mode pipeline (step: nopython frontend)\n\u001b[1m\u001b[1mnon-precise type pyobject\u001b[0m\n\u001b[0m\u001b[1mDuring: typing of argument at /tmp/ipykernel_653795/4097335957.py (7)\u001b[0m\n\u001b[1m\nFile \"../../../../../tmp/ipykernel_653795/4097335957.py\", line 7:\u001b[0m\n\u001b[1m<source missing, REPL/exec in use?>\u001b[0m \n\nThis error may have been caused by the following argument(s):\n- argument 2: \u001b[1mCannot determine Numba type of <class 'grib2io._grib2io.Grib2GridDef'>\u001b[0m\n"
     ]
    }
   ],
   "source": [
    "test_numba  = numba_eval_v1((n_x_i, n_y_i), grid_shape, grid_def,ens_mem, min_lat,min_lon, c_ai)"
   ]
  },
  {
   "cell_type": "markdown",
   "id": "a1bf7f17-9d03-47a4-a63f-b17fe072d887",
   "metadata": {},
   "source": [
    "So let's try a second version, where we hand the evaluation function the griddef func?"
   ]
  },
  {
   "cell_type": "code",
   "execution_count": 15,
   "id": "4a4fc9fd-c579-4b9e-8693-9935146facc5",
   "metadata": {},
   "outputs": [],
   "source": [
    "#-----------------------#\n",
    "#\n",
    "# Numba version, @njit decorator\n",
    "#\n",
    "#-----------------------#\n",
    "\n",
    "@njit()\n",
    "def numba_eval_v2(new_grid, grid_shape, grid_def_func,grid_def_arr,ens_mem,min_lat_idx, min_lon_idx, c_ai):\n",
    "\n",
    "    grid_def = grid_def_func(grid_def_arr)\n",
    "    \n",
    "    #interpolate ensemble member between displaced grid and gefs grid\n",
    "    displaced_ens = grib2io.interpolate_to_stations(ens_mem, 'bilinear', grid_def, new_grid[1], new_grid[0])\n",
    "    \n",
    "    # interp_to_stations returns a list of points instead of the 2D field. just need to rearrange below\n",
    "    coalesced_ensemble = np.zeros(np.shape(ens_mem))\n",
    "    y,x = grid_shape\n",
    "    for i in range(x):\n",
    "        for j in range(y):\n",
    "            point = i + x*j\n",
    "            coalesced_ensemble[j+min_lat_idx, i+min_lon_idx] = displaced_ens[point] * (1. + c_ai[point])\n",
    "    return coalesced_ensemble\n"
   ]
  },
  {
   "cell_type": "code",
   "execution_count": 16,
   "id": "234790ba-f1db-43ae-8db8-db7c2994bc3c",
   "metadata": {},
   "outputs": [
    {
     "ename": "TypingError",
     "evalue": "Failed in nopython mode pipeline (step: nopython frontend)\n\u001b[1m\u001b[1mnon-precise type pyobject\u001b[0m\n\u001b[0m\u001b[1mDuring: typing of argument at /tmp/ipykernel_653795/3884732420.py (7)\u001b[0m\n\u001b[1m\nFile \"../../../../../tmp/ipykernel_653795/3884732420.py\", line 7:\u001b[0m\n\u001b[1m<source missing, REPL/exec in use?>\u001b[0m \n\nThis error may have been caused by the following argument(s):\n- argument 2: \u001b[1mCannot determine Numba type of <class 'method'>\u001b[0m\n",
     "output_type": "error",
     "traceback": [
      "\u001b[0;31m---------------------------------------------------------------------------\u001b[0m",
      "\u001b[0;31mTypingError\u001b[0m                               Traceback (most recent call last)",
      "Cell \u001b[0;32mIn[16], line 6\u001b[0m\n\u001b[1;32m      3\u001b[0m grid_def_func \u001b[38;5;241m=\u001b[39m Grib2GridDef\u001b[38;5;241m.\u001b[39mfrom_section3\n\u001b[1;32m      4\u001b[0m grid_def_arr \u001b[38;5;241m=\u001b[39m gefs_data\u001b[38;5;241m.\u001b[39mAPCP\u001b[38;5;241m.\u001b[39mGRIB2IO_section3\n\u001b[0;32m----> 6\u001b[0m test_numba  \u001b[38;5;241m=\u001b[39m \u001b[43mnumba_eval_v2\u001b[49m\u001b[43m(\u001b[49m\u001b[43m(\u001b[49m\u001b[43mn_x_i\u001b[49m\u001b[43m,\u001b[49m\u001b[43m \u001b[49m\u001b[43mn_y_i\u001b[49m\u001b[43m)\u001b[49m\u001b[43m,\u001b[49m\u001b[43m \u001b[49m\u001b[43mgrid_shape\u001b[49m\u001b[43m,\u001b[49m\u001b[43m \u001b[49m\u001b[43mgrid_def_func\u001b[49m\u001b[43m,\u001b[49m\u001b[43mgrid_def_arr\u001b[49m\u001b[43m \u001b[49m\u001b[43m,\u001b[49m\u001b[43mens_mem\u001b[49m\u001b[43m,\u001b[49m\u001b[43m \u001b[49m\u001b[43mmin_lat\u001b[49m\u001b[43m,\u001b[49m\u001b[43mmin_lon\u001b[49m\u001b[43m,\u001b[49m\u001b[43m \u001b[49m\u001b[43mc_ai\u001b[49m\u001b[43m)\u001b[49m\n",
      "File \u001b[0;32m/scratch2/STI/mdl-sti/Sidney.Lower/miniforge3/lib/python3.10/site-packages/numba/core/dispatcher.py:468\u001b[0m, in \u001b[0;36m_DispatcherBase._compile_for_args\u001b[0;34m(self, *args, **kws)\u001b[0m\n\u001b[1;32m    464\u001b[0m         msg \u001b[38;5;241m=\u001b[39m (\u001b[38;5;124mf\u001b[39m\u001b[38;5;124m\"\u001b[39m\u001b[38;5;132;01m{\u001b[39;00m\u001b[38;5;28mstr\u001b[39m(e)\u001b[38;5;241m.\u001b[39mrstrip()\u001b[38;5;132;01m}\u001b[39;00m\u001b[38;5;124m \u001b[39m\u001b[38;5;130;01m\\n\u001b[39;00m\u001b[38;5;130;01m\\n\u001b[39;00m\u001b[38;5;124mThis error may have been caused \u001b[39m\u001b[38;5;124m\"\u001b[39m\n\u001b[1;32m    465\u001b[0m                \u001b[38;5;124mf\u001b[39m\u001b[38;5;124m\"\u001b[39m\u001b[38;5;124mby the following argument(s):\u001b[39m\u001b[38;5;130;01m\\n\u001b[39;00m\u001b[38;5;132;01m{\u001b[39;00margs_str\u001b[38;5;132;01m}\u001b[39;00m\u001b[38;5;130;01m\\n\u001b[39;00m\u001b[38;5;124m\"\u001b[39m)\n\u001b[1;32m    466\u001b[0m         e\u001b[38;5;241m.\u001b[39mpatch_message(msg)\n\u001b[0;32m--> 468\u001b[0m     \u001b[43merror_rewrite\u001b[49m\u001b[43m(\u001b[49m\u001b[43me\u001b[49m\u001b[43m,\u001b[49m\u001b[43m \u001b[49m\u001b[38;5;124;43m'\u001b[39;49m\u001b[38;5;124;43mtyping\u001b[39;49m\u001b[38;5;124;43m'\u001b[39;49m\u001b[43m)\u001b[49m\n\u001b[1;32m    469\u001b[0m \u001b[38;5;28;01mexcept\u001b[39;00m errors\u001b[38;5;241m.\u001b[39mUnsupportedError \u001b[38;5;28;01mas\u001b[39;00m e:\n\u001b[1;32m    470\u001b[0m     \u001b[38;5;66;03m# Something unsupported is present in the user code, add help info\u001b[39;00m\n\u001b[1;32m    471\u001b[0m     error_rewrite(e, \u001b[38;5;124m'\u001b[39m\u001b[38;5;124munsupported_error\u001b[39m\u001b[38;5;124m'\u001b[39m)\n",
      "File \u001b[0;32m/scratch2/STI/mdl-sti/Sidney.Lower/miniforge3/lib/python3.10/site-packages/numba/core/dispatcher.py:409\u001b[0m, in \u001b[0;36m_DispatcherBase._compile_for_args.<locals>.error_rewrite\u001b[0;34m(e, issue_type)\u001b[0m\n\u001b[1;32m    407\u001b[0m     \u001b[38;5;28;01mraise\u001b[39;00m e\n\u001b[1;32m    408\u001b[0m \u001b[38;5;28;01melse\u001b[39;00m:\n\u001b[0;32m--> 409\u001b[0m     \u001b[38;5;28;01mraise\u001b[39;00m e\u001b[38;5;241m.\u001b[39mwith_traceback(\u001b[38;5;28;01mNone\u001b[39;00m)\n",
      "\u001b[0;31mTypingError\u001b[0m: Failed in nopython mode pipeline (step: nopython frontend)\n\u001b[1m\u001b[1mnon-precise type pyobject\u001b[0m\n\u001b[0m\u001b[1mDuring: typing of argument at /tmp/ipykernel_653795/3884732420.py (7)\u001b[0m\n\u001b[1m\nFile \"../../../../../tmp/ipykernel_653795/3884732420.py\", line 7:\u001b[0m\n\u001b[1m<source missing, REPL/exec in use?>\u001b[0m \n\nThis error may have been caused by the following argument(s):\n- argument 2: \u001b[1mCannot determine Numba type of <class 'method'>\u001b[0m\n"
     ]
    }
   ],
   "source": [
    "from grib2io import Grib2GridDef\n",
    "\n",
    "grid_def_func = Grib2GridDef.from_section3\n",
    "grid_def_arr = gefs_data.APCP.GRIB2IO_section3\n",
    "\n",
    "test_numba  = numba_eval_v2((n_x_i, n_y_i), grid_shape, grid_def_func,grid_def_arr ,ens_mem, min_lat,min_lon, c_ai)"
   ]
  },
  {
   "cell_type": "markdown",
   "id": "04b34aab-5aa3-43b9-b3a5-bef876b7eb0a",
   "metadata": {},
   "source": [
    "Again, doesn't like non array/float/int args...\n",
    "Even still, the interpolation that grib2io performs is not really the computational bottleneck. It's the minimization itself. \n",
    "\n",
    "I've looked into other packages for fast minimization/jit capabilities/numpy speed ups (JAX, interpax). JAX does fast differentiation of numpy arrays so could be a good solution to the scipy minimization bottleneck (where its approximating the objective function gradient potentially hundreds of times) but even this struggles a bit with the inner workings of grib2io and scipy. I found this [notebook](https://colab.research.google.com/drive/1CQvYpR-c-XAyAmHcdiSoC0wMNYW-ntGM?usp=sharing#scrollTo=KoGdlaBWpTDZ) that does a nice intro, but this person built their own classes for the optimization part."
   ]
  },
  {
   "cell_type": "code",
   "execution_count": 17,
   "id": "84817f04-e503-4ce6-a351-aa38658d862e",
   "metadata": {},
   "outputs": [],
   "source": [
    "import jax.numpy as jnp\n",
    "from jax import jit, value_and_grad"
   ]
  },
  {
   "cell_type": "code",
   "execution_count": 28,
   "id": "1ab90b20-1520-4374-bb50-e208e17a292f",
   "metadata": {},
   "outputs": [],
   "source": [
    "#-------------------------#\n",
    "#\n",
    "# JAX version, just residual\n",
    "#\n",
    "#-------------------------#\n",
    "\n",
    "def jax_eval1(new_grid, grid_shape,grid_def, ens_mem,min_lat_idx, min_lon_idx, c_ai):\n",
    "    displaced_ens = grib2io.interpolate_to_stations(ens_mem, 'bilinear', grid_def, new_grid[1], new_grid[0])\n",
    "    # interp_to_stations returns a list of points instead of the 2D field. just need to rearrange below\n",
    "    coalesced_ensemble = jnp.zeros(jnp.shape(ens_mem))\n",
    "    y,x = grid_shape\n",
    "    for i in range(x):\n",
    "        for j in range(y):\n",
    "            point = i + x*j\n",
    "            coalesced_ensemble[j+min_lat_idx, i+min_lon_idx] = displaced_ens[point] * (1. + c_ai[point])\n",
    "    return coalesced_ensemble\n",
    "\n",
    "def jax_residual_error(ck_arr,b_ik,ens_mean, ens_mem, obs_error, grid, grid_def, min_lat, min_lon):\n",
    "    #grid point displacements from coeff * basis funcs\n",
    "    ntrunc = jnp.shape(b_ik)[1]\n",
    "    c_k = {\"x\": ck_arr[:ntrunc], \"y\": ck_arr[ntrunc:ntrunc*2], \"a\": ck_arr[ntrunc*2:]}\n",
    "    gefs_grid_points = jnp.reshape(jnp.array([grid[0], grid[1]]), (2, -1), order='C').T\n",
    "    grid_shape = jnp.shape(grid[0])\n",
    "    c_xi = jnp.dot(b_ik, c_k['x'])\n",
    "    c_yi = jnp.dot(b_ik, c_k['y'])\n",
    "    n_x_i = gefs_grid_points[:,0] + c_xi\n",
    "    n_y_i = gefs_grid_points[:,1] + c_yi\n",
    "   \n",
    "    #amplitude displacements\n",
    "    c_ai = jnp.dot(b_ik, c_k['a'])\n",
    "\n",
    "    displaced_ens = evaluate_at_new_grid(jnp.array([n_x_i, n_y_i]).T,jnp.array([gefs_grid_points[:,0], gefs_grid_points[:,1]]).T, \n",
    "                                         grid_shape,ens_mem, min_lat,min_lon, c_ai)\n",
    "\n",
    "    max_lat = min_lat + grid_shape[0]\n",
    "    max_lon = min_lon + grid_shape[1]\n",
    "    before_sum = (ens_mean[min_lat:max_lat, min_lon:max_lon] - displaced_ens[min_lat:max_lat, min_lon:max_lon])**2\n",
    "    return jnp.sum(before_sum / obs_error[min_lat:max_lat, min_lon:max_lon]**2)\n",
    "\n",
    "\n",
    "#------ driver -------#\n",
    "obj_and_grad = jit(value_and_grad(jax_residual_error))\n",
    "\n",
    "\n",
    "# set up, using some of the stuff above\n",
    "c_k = {\"x\": np.repeat(0.01, d_o_f), \"y\": np.repeat(0.01, d_o_f), \"a\": np.repeat(0.01, d_o_f)}\n",
    "ck_arr = np.ravel(np.array([c_k['x'], c_k['y'], c_k['a']]))\n",
    "\n",
    "grid_def = gefs_data.grib2io.griddef()\n",
    "grid_shape = np.shape(gx)\n",
    "grid = (gx, gy)\n",
    "std = 0.3"
   ]
  },
  {
   "cell_type": "code",
   "execution_count": 29,
   "id": "c46bd657-3338-4966-8825-d688c8b4bb82",
   "metadata": {},
   "outputs": [
    {
     "ename": "TypeError",
     "evalue": "Cannot interpret value of type <class 'grib2io._grib2io.Grib2GridDef'> as an abstract array; it does not have a dtype attribute",
     "output_type": "error",
     "traceback": [
      "\u001b[0;31m---------------------------------------------------------------------------\u001b[0m",
      "\u001b[0;31mKeyError\u001b[0m                                  Traceback (most recent call last)",
      "File \u001b[0;32m/scratch2/STI/mdl-sti/Sidney.Lower/miniforge3/lib/python3.10/site-packages/jax/_src/api_util.py:584\u001b[0m, in \u001b[0;36mshaped_abstractify\u001b[0;34m(x)\u001b[0m\n\u001b[1;32m    583\u001b[0m \u001b[38;5;28;01mtry\u001b[39;00m:\n\u001b[0;32m--> 584\u001b[0m   \u001b[38;5;28;01mreturn\u001b[39;00m \u001b[43m_shaped_abstractify_handlers\u001b[49m\u001b[43m[\u001b[49m\u001b[38;5;28;43mtype\u001b[39;49m\u001b[43m(\u001b[49m\u001b[43mx\u001b[49m\u001b[43m)\u001b[49m\u001b[43m]\u001b[49m(x)\n\u001b[1;32m    585\u001b[0m \u001b[38;5;28;01mexcept\u001b[39;00m \u001b[38;5;167;01mKeyError\u001b[39;00m:\n",
      "\u001b[0;31mKeyError\u001b[0m: <class 'grib2io._grib2io.Grib2GridDef'>",
      "\nDuring handling of the above exception, another exception occurred:\n",
      "\u001b[0;31mTypeError\u001b[0m                                 Traceback (most recent call last)",
      "Cell \u001b[0;32mIn[29], line 1\u001b[0m\n\u001b[0;32m----> 1\u001b[0m test \u001b[38;5;241m=\u001b[39m \u001b[43mobj_and_grad\u001b[49m\u001b[43m(\u001b[49m\u001b[43mck_arr\u001b[49m\u001b[43m,\u001b[49m\u001b[43mb_ik\u001b[49m\u001b[43m,\u001b[49m\u001b[43mraw_mean\u001b[49m\u001b[43m,\u001b[49m\u001b[43m \u001b[49m\u001b[43mens_mem\u001b[49m\u001b[43m,\u001b[49m\u001b[43m \u001b[49m\u001b[43mstd\u001b[49m\u001b[43m,\u001b[49m\u001b[43m \u001b[49m\u001b[43mgrid\u001b[49m\u001b[43m,\u001b[49m\u001b[43m \u001b[49m\u001b[43mgrid_def\u001b[49m\u001b[43m,\u001b[49m\u001b[43m \u001b[49m\u001b[43mmin_lat\u001b[49m\u001b[43m,\u001b[49m\u001b[43m \u001b[49m\u001b[43mmin_lon\u001b[49m\u001b[43m)\u001b[49m\n",
      "    \u001b[0;31m[... skipping hidden 6 frame]\u001b[0m\n",
      "File \u001b[0;32m/scratch2/STI/mdl-sti/Sidney.Lower/miniforge3/lib/python3.10/site-packages/jax/_src/api_util.py:575\u001b[0m, in \u001b[0;36m_shaped_abstractify_slow\u001b[0;34m(x)\u001b[0m\n\u001b[1;32m    573\u001b[0m   dtype \u001b[38;5;241m=\u001b[39m dtypes\u001b[38;5;241m.\u001b[39mcanonicalize_dtype(x\u001b[38;5;241m.\u001b[39mdtype, allow_extended_dtype\u001b[38;5;241m=\u001b[39m\u001b[38;5;28;01mTrue\u001b[39;00m)\n\u001b[1;32m    574\u001b[0m \u001b[38;5;28;01melse\u001b[39;00m:\n\u001b[0;32m--> 575\u001b[0m   \u001b[38;5;28;01mraise\u001b[39;00m \u001b[38;5;167;01mTypeError\u001b[39;00m(\n\u001b[1;32m    576\u001b[0m       \u001b[38;5;124mf\u001b[39m\u001b[38;5;124m\"\u001b[39m\u001b[38;5;124mCannot interpret value of type \u001b[39m\u001b[38;5;132;01m{\u001b[39;00m\u001b[38;5;28mtype\u001b[39m(x)\u001b[38;5;132;01m}\u001b[39;00m\u001b[38;5;124m as an abstract array; it \u001b[39m\u001b[38;5;124m\"\u001b[39m\n\u001b[1;32m    577\u001b[0m       \u001b[38;5;124m\"\u001b[39m\u001b[38;5;124mdoes not have a dtype attribute\u001b[39m\u001b[38;5;124m\"\u001b[39m)\n\u001b[1;32m    578\u001b[0m \u001b[38;5;28;01mreturn\u001b[39;00m core\u001b[38;5;241m.\u001b[39mShapedArray(np\u001b[38;5;241m.\u001b[39mshape(x), dtype, weak_type\u001b[38;5;241m=\u001b[39mweak_type,\n\u001b[1;32m    579\u001b[0m                         named_shape\u001b[38;5;241m=\u001b[39mnamed_shape)\n",
      "\u001b[0;31mTypeError\u001b[0m: Cannot interpret value of type <class 'grib2io._grib2io.Grib2GridDef'> as an abstract array; it does not have a dtype attribute"
     ]
    }
   ],
   "source": [
    "test = obj_and_grad(ck_arr,b_ik,raw_mean, ens_mem, std, grid, grid_def, min_lat, min_lon)"
   ]
  },
  {
   "cell_type": "markdown",
   "id": "6fd0ddf0-7997-450a-8fcd-8f4ea3c2824a",
   "metadata": {},
   "source": [
    "Same error as above :/"
   ]
  },
  {
   "cell_type": "code",
   "execution_count": null,
   "id": "0381684e-70a7-48db-879b-4645d3f1854c",
   "metadata": {},
   "outputs": [],
   "source": []
  }
 ],
 "metadata": {
  "kernelspec": {
   "display_name": "Python 3 (ipykernel)",
   "language": "python",
   "name": "python3"
  },
  "language_info": {
   "codemirror_mode": {
    "name": "ipython",
    "version": 3
   },
   "file_extension": ".py",
   "mimetype": "text/x-python",
   "name": "python",
   "nbconvert_exporter": "python",
   "pygments_lexer": "ipython3",
   "version": "3.10.12"
  }
 },
 "nbformat": 4,
 "nbformat_minor": 5
}
